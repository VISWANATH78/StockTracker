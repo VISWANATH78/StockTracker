{
 "cells": [
  {
   "cell_type": "code",
   "execution_count": 1,
   "id": "04572c37",
   "metadata": {},
   "outputs": [
    {
     "name": "stdout",
     "output_type": "stream",
     "text": [
      "Requirement already satisfied: pandas-datareader in c:\\users\\vichu\\anaconda3\\lib\\site-packages (0.10.0)\n",
      "Requirement already satisfied: pandas>=0.23 in c:\\users\\vichu\\anaconda3\\lib\\site-packages (from pandas-datareader) (1.3.4)\n",
      "Requirement already satisfied: lxml in c:\\users\\vichu\\anaconda3\\lib\\site-packages (from pandas-datareader) (4.6.3)\n",
      "Requirement already satisfied: requests>=2.19.0 in c:\\users\\vichu\\anaconda3\\lib\\site-packages (from pandas-datareader) (2.26.0)\n",
      "Requirement already satisfied: numpy>=1.17.3 in c:\\users\\vichu\\anaconda3\\lib\\site-packages (from pandas>=0.23->pandas-datareader) (1.20.3)\n",
      "Requirement already satisfied: python-dateutil>=2.7.3 in c:\\users\\vichu\\anaconda3\\lib\\site-packages (from pandas>=0.23->pandas-datareader) (2.8.2)\n",
      "Requirement already satisfied: pytz>=2017.3 in c:\\users\\vichu\\anaconda3\\lib\\site-packages (from pandas>=0.23->pandas-datareader) (2021.3)\n",
      "Requirement already satisfied: six>=1.5 in c:\\users\\vichu\\anaconda3\\lib\\site-packages (from python-dateutil>=2.7.3->pandas>=0.23->pandas-datareader) (1.16.0)\n",
      "Requirement already satisfied: urllib3<1.27,>=1.21.1 in c:\\users\\vichu\\anaconda3\\lib\\site-packages (from requests>=2.19.0->pandas-datareader) (1.26.7)\n",
      "Requirement already satisfied: certifi>=2017.4.17 in c:\\users\\vichu\\anaconda3\\lib\\site-packages (from requests>=2.19.0->pandas-datareader) (2021.10.8)\n",
      "Requirement already satisfied: idna<4,>=2.5 in c:\\users\\vichu\\anaconda3\\lib\\site-packages (from requests>=2.19.0->pandas-datareader) (3.2)\n",
      "Requirement already satisfied: charset-normalizer~=2.0.0 in c:\\users\\vichu\\anaconda3\\lib\\site-packages (from requests>=2.19.0->pandas-datareader) (2.0.4)\n",
      "Note: you may need to restart the kernel to use updated packages.\n"
     ]
    }
   ],
   "source": [
    "pip install pandas-datareader\n"
   ]
  },
  {
   "cell_type": "code",
   "execution_count": 2,
   "id": "6b13a045",
   "metadata": {},
   "outputs": [
    {
     "name": "stdout",
     "output_type": "stream",
     "text": [
      "Requirement already satisfied: yfinance in c:\\users\\vichu\\anaconda3\\lib\\site-packages (0.1.69)\n",
      "Requirement already satisfied: requests>=2.26 in c:\\users\\vichu\\anaconda3\\lib\\site-packages (from yfinance) (2.26.0)\n",
      "Requirement already satisfied: multitasking>=0.0.7 in c:\\users\\vichu\\anaconda3\\lib\\site-packages (from yfinance) (0.0.10)\n",
      "Requirement already satisfied: pandas>=0.24 in c:\\users\\vichu\\anaconda3\\lib\\site-packages (from yfinance) (1.3.4)\n",
      "Requirement already satisfied: lxml>=4.5.1 in c:\\users\\vichu\\anaconda3\\lib\\site-packages (from yfinance) (4.6.3)\n",
      "Requirement already satisfied: numpy>=1.15 in c:\\users\\vichu\\anaconda3\\lib\\site-packages (from yfinance) (1.20.3)\n",
      "Requirement already satisfied: python-dateutil>=2.7.3 in c:\\users\\vichu\\anaconda3\\lib\\site-packages (from pandas>=0.24->yfinance) (2.8.2)\n",
      "Requirement already satisfied: pytz>=2017.3 in c:\\users\\vichu\\anaconda3\\lib\\site-packages (from pandas>=0.24->yfinance) (2021.3)\n",
      "Requirement already satisfied: six>=1.5 in c:\\users\\vichu\\anaconda3\\lib\\site-packages (from python-dateutil>=2.7.3->pandas>=0.24->yfinance) (1.16.0)\n",
      "Requirement already satisfied: idna<4,>=2.5 in c:\\users\\vichu\\anaconda3\\lib\\site-packages (from requests>=2.26->yfinance) (3.2)\n",
      "Requirement already satisfied: urllib3<1.27,>=1.21.1 in c:\\users\\vichu\\anaconda3\\lib\\site-packages (from requests>=2.26->yfinance) (1.26.7)\n",
      "Requirement already satisfied: certifi>=2017.4.17 in c:\\users\\vichu\\anaconda3\\lib\\site-packages (from requests>=2.26->yfinance) (2021.10.8)\n",
      "Requirement already satisfied: charset-normalizer~=2.0.0 in c:\\users\\vichu\\anaconda3\\lib\\site-packages (from requests>=2.26->yfinance) (2.0.4)\n",
      "Note: you may need to restart the kernel to use updated packages.\n"
     ]
    }
   ],
   "source": [
    "pip install yfinance"
   ]
  },
  {
   "cell_type": "code",
   "execution_count": 1,
   "id": "25b11ee0",
   "metadata": {},
   "outputs": [],
   "source": [
    "import numpy as np\n",
    "import pandas as pd\n",
    "import pandas_datareader as data\n",
    "import matplotlib.pyplot as plt\n",
    "import yfinance as yf"
   ]
  },
  {
   "cell_type": "code",
   "execution_count": 77,
   "id": "597855e7",
   "metadata": {},
   "outputs": [
    {
     "data": {
      "text/html": [
       "<div>\n",
       "<style scoped>\n",
       "    .dataframe tbody tr th:only-of-type {\n",
       "        vertical-align: middle;\n",
       "    }\n",
       "\n",
       "    .dataframe tbody tr th {\n",
       "        vertical-align: top;\n",
       "    }\n",
       "\n",
       "    .dataframe thead th {\n",
       "        text-align: right;\n",
       "    }\n",
       "</style>\n",
       "<table border=\"1\" class=\"dataframe\">\n",
       "  <thead>\n",
       "    <tr style=\"text-align: right;\">\n",
       "      <th></th>\n",
       "      <th>High</th>\n",
       "      <th>Low</th>\n",
       "      <th>Open</th>\n",
       "      <th>Close</th>\n",
       "      <th>Volume</th>\n",
       "      <th>Adj Close</th>\n",
       "    </tr>\n",
       "    <tr>\n",
       "      <th>Date</th>\n",
       "      <th></th>\n",
       "      <th></th>\n",
       "      <th></th>\n",
       "      <th></th>\n",
       "      <th></th>\n",
       "      <th></th>\n",
       "    </tr>\n",
       "  </thead>\n",
       "  <tbody>\n",
       "    <tr>\n",
       "      <th>1998-12-31</th>\n",
       "      <td>0.369420</td>\n",
       "      <td>0.352679</td>\n",
       "      <td>0.361607</td>\n",
       "      <td>0.365513</td>\n",
       "      <td>2.716896e+08</td>\n",
       "      <td>0.313378</td>\n",
       "    </tr>\n",
       "    <tr>\n",
       "      <th>1999-01-04</th>\n",
       "      <td>0.377232</td>\n",
       "      <td>0.357143</td>\n",
       "      <td>0.376116</td>\n",
       "      <td>0.368304</td>\n",
       "      <td>9.528848e+08</td>\n",
       "      <td>0.315771</td>\n",
       "    </tr>\n",
       "    <tr>\n",
       "      <th>1999-01-05</th>\n",
       "      <td>0.392299</td>\n",
       "      <td>0.370536</td>\n",
       "      <td>0.374442</td>\n",
       "      <td>0.386719</td>\n",
       "      <td>1.410114e+09</td>\n",
       "      <td>0.331559</td>\n",
       "    </tr>\n",
       "    <tr>\n",
       "      <th>1999-01-06</th>\n",
       "      <td>0.393973</td>\n",
       "      <td>0.366071</td>\n",
       "      <td>0.393973</td>\n",
       "      <td>0.372768</td>\n",
       "      <td>1.348570e+09</td>\n",
       "      <td>0.319598</td>\n",
       "    </tr>\n",
       "    <tr>\n",
       "      <th>1999-01-07</th>\n",
       "      <td>0.402344</td>\n",
       "      <td>0.376116</td>\n",
       "      <td>0.377232</td>\n",
       "      <td>0.401786</td>\n",
       "      <td>1.429019e+09</td>\n",
       "      <td>0.344477</td>\n",
       "    </tr>\n",
       "  </tbody>\n",
       "</table>\n",
       "</div>"
      ],
      "text/plain": [
       "                High       Low      Open     Close        Volume  Adj Close\n",
       "Date                                                                       \n",
       "1998-12-31  0.369420  0.352679  0.361607  0.365513  2.716896e+08   0.313378\n",
       "1999-01-04  0.377232  0.357143  0.376116  0.368304  9.528848e+08   0.315771\n",
       "1999-01-05  0.392299  0.370536  0.374442  0.386719  1.410114e+09   0.331559\n",
       "1999-01-06  0.393973  0.366071  0.393973  0.372768  1.348570e+09   0.319598\n",
       "1999-01-07  0.402344  0.376116  0.377232  0.401786  1.429019e+09   0.344477"
      ]
     },
     "execution_count": 77,
     "metadata": {},
     "output_type": "execute_result"
    }
   ],
   "source": [
    "start = '1999-01-01'\n",
    "end='2022-05-07'\n",
    "df =data.DataReader('AAPL', 'yahoo',start, end)\n",
    "df.head()"
   ]
  },
  {
   "cell_type": "code",
   "execution_count": 78,
   "id": "562418ed",
   "metadata": {},
   "outputs": [
    {
     "data": {
      "text/html": [
       "<div>\n",
       "<style scoped>\n",
       "    .dataframe tbody tr th:only-of-type {\n",
       "        vertical-align: middle;\n",
       "    }\n",
       "\n",
       "    .dataframe tbody tr th {\n",
       "        vertical-align: top;\n",
       "    }\n",
       "\n",
       "    .dataframe thead th {\n",
       "        text-align: right;\n",
       "    }\n",
       "</style>\n",
       "<table border=\"1\" class=\"dataframe\">\n",
       "  <thead>\n",
       "    <tr style=\"text-align: right;\">\n",
       "      <th></th>\n",
       "      <th>High</th>\n",
       "      <th>Low</th>\n",
       "      <th>Open</th>\n",
       "      <th>Close</th>\n",
       "      <th>Volume</th>\n",
       "      <th>Adj Close</th>\n",
       "    </tr>\n",
       "    <tr>\n",
       "      <th>Date</th>\n",
       "      <th></th>\n",
       "      <th></th>\n",
       "      <th></th>\n",
       "      <th></th>\n",
       "      <th></th>\n",
       "      <th></th>\n",
       "    </tr>\n",
       "  </thead>\n",
       "  <tbody>\n",
       "    <tr>\n",
       "      <th>2022-01-10</th>\n",
       "      <td>172.500000</td>\n",
       "      <td>168.169998</td>\n",
       "      <td>169.080002</td>\n",
       "      <td>172.190002</td>\n",
       "      <td>106765600.0</td>\n",
       "      <td>172.190002</td>\n",
       "    </tr>\n",
       "    <tr>\n",
       "      <th>2022-01-11</th>\n",
       "      <td>175.179993</td>\n",
       "      <td>170.820007</td>\n",
       "      <td>172.320007</td>\n",
       "      <td>175.080002</td>\n",
       "      <td>76138300.0</td>\n",
       "      <td>175.080002</td>\n",
       "    </tr>\n",
       "    <tr>\n",
       "      <th>2022-01-12</th>\n",
       "      <td>177.179993</td>\n",
       "      <td>174.820007</td>\n",
       "      <td>176.119995</td>\n",
       "      <td>175.529999</td>\n",
       "      <td>74805200.0</td>\n",
       "      <td>175.529999</td>\n",
       "    </tr>\n",
       "    <tr>\n",
       "      <th>2022-01-13</th>\n",
       "      <td>176.619995</td>\n",
       "      <td>171.789993</td>\n",
       "      <td>175.779999</td>\n",
       "      <td>172.190002</td>\n",
       "      <td>84505800.0</td>\n",
       "      <td>172.190002</td>\n",
       "    </tr>\n",
       "    <tr>\n",
       "      <th>2022-01-14</th>\n",
       "      <td>173.779999</td>\n",
       "      <td>171.089996</td>\n",
       "      <td>171.339996</td>\n",
       "      <td>173.070007</td>\n",
       "      <td>80355000.0</td>\n",
       "      <td>173.070007</td>\n",
       "    </tr>\n",
       "  </tbody>\n",
       "</table>\n",
       "</div>"
      ],
      "text/plain": [
       "                  High         Low        Open       Close       Volume  \\\n",
       "Date                                                                      \n",
       "2022-01-10  172.500000  168.169998  169.080002  172.190002  106765600.0   \n",
       "2022-01-11  175.179993  170.820007  172.320007  175.080002   76138300.0   \n",
       "2022-01-12  177.179993  174.820007  176.119995  175.529999   74805200.0   \n",
       "2022-01-13  176.619995  171.789993  175.779999  172.190002   84505800.0   \n",
       "2022-01-14  173.779999  171.089996  171.339996  173.070007   80355000.0   \n",
       "\n",
       "             Adj Close  \n",
       "Date                    \n",
       "2022-01-10  172.190002  \n",
       "2022-01-11  175.080002  \n",
       "2022-01-12  175.529999  \n",
       "2022-01-13  172.190002  \n",
       "2022-01-14  173.070007  "
      ]
     },
     "execution_count": 78,
     "metadata": {},
     "output_type": "execute_result"
    }
   ],
   "source": [
    "df.tail()"
   ]
  },
  {
   "cell_type": "code",
   "execution_count": 79,
   "id": "74547e74",
   "metadata": {},
   "outputs": [
    {
     "data": {
      "text/html": [
       "<div>\n",
       "<style scoped>\n",
       "    .dataframe tbody tr th:only-of-type {\n",
       "        vertical-align: middle;\n",
       "    }\n",
       "\n",
       "    .dataframe tbody tr th {\n",
       "        vertical-align: top;\n",
       "    }\n",
       "\n",
       "    .dataframe thead th {\n",
       "        text-align: right;\n",
       "    }\n",
       "</style>\n",
       "<table border=\"1\" class=\"dataframe\">\n",
       "  <thead>\n",
       "    <tr style=\"text-align: right;\">\n",
       "      <th></th>\n",
       "      <th>Date</th>\n",
       "      <th>High</th>\n",
       "      <th>Low</th>\n",
       "      <th>Open</th>\n",
       "      <th>Close</th>\n",
       "      <th>Volume</th>\n",
       "      <th>Adj Close</th>\n",
       "    </tr>\n",
       "  </thead>\n",
       "  <tbody>\n",
       "    <tr>\n",
       "      <th>0</th>\n",
       "      <td>1998-12-31</td>\n",
       "      <td>0.369420</td>\n",
       "      <td>0.352679</td>\n",
       "      <td>0.361607</td>\n",
       "      <td>0.365513</td>\n",
       "      <td>2.716896e+08</td>\n",
       "      <td>0.313378</td>\n",
       "    </tr>\n",
       "    <tr>\n",
       "      <th>1</th>\n",
       "      <td>1999-01-04</td>\n",
       "      <td>0.377232</td>\n",
       "      <td>0.357143</td>\n",
       "      <td>0.376116</td>\n",
       "      <td>0.368304</td>\n",
       "      <td>9.528848e+08</td>\n",
       "      <td>0.315771</td>\n",
       "    </tr>\n",
       "    <tr>\n",
       "      <th>2</th>\n",
       "      <td>1999-01-05</td>\n",
       "      <td>0.392299</td>\n",
       "      <td>0.370536</td>\n",
       "      <td>0.374442</td>\n",
       "      <td>0.386719</td>\n",
       "      <td>1.410114e+09</td>\n",
       "      <td>0.331559</td>\n",
       "    </tr>\n",
       "    <tr>\n",
       "      <th>3</th>\n",
       "      <td>1999-01-06</td>\n",
       "      <td>0.393973</td>\n",
       "      <td>0.366071</td>\n",
       "      <td>0.393973</td>\n",
       "      <td>0.372768</td>\n",
       "      <td>1.348570e+09</td>\n",
       "      <td>0.319598</td>\n",
       "    </tr>\n",
       "    <tr>\n",
       "      <th>4</th>\n",
       "      <td>1999-01-07</td>\n",
       "      <td>0.402344</td>\n",
       "      <td>0.376116</td>\n",
       "      <td>0.377232</td>\n",
       "      <td>0.401786</td>\n",
       "      <td>1.429019e+09</td>\n",
       "      <td>0.344477</td>\n",
       "    </tr>\n",
       "  </tbody>\n",
       "</table>\n",
       "</div>"
      ],
      "text/plain": [
       "        Date      High       Low      Open     Close        Volume  Adj Close\n",
       "0 1998-12-31  0.369420  0.352679  0.361607  0.365513  2.716896e+08   0.313378\n",
       "1 1999-01-04  0.377232  0.357143  0.376116  0.368304  9.528848e+08   0.315771\n",
       "2 1999-01-05  0.392299  0.370536  0.374442  0.386719  1.410114e+09   0.331559\n",
       "3 1999-01-06  0.393973  0.366071  0.393973  0.372768  1.348570e+09   0.319598\n",
       "4 1999-01-07  0.402344  0.376116  0.377232  0.401786  1.429019e+09   0.344477"
      ]
     },
     "execution_count": 79,
     "metadata": {},
     "output_type": "execute_result"
    }
   ],
   "source": [
    "df=df.reset_index()\n",
    "df.head()"
   ]
  },
  {
   "cell_type": "code",
   "execution_count": 80,
   "id": "95ff8c05",
   "metadata": {},
   "outputs": [
    {
     "data": {
      "text/html": [
       "<div>\n",
       "<style scoped>\n",
       "    .dataframe tbody tr th:only-of-type {\n",
       "        vertical-align: middle;\n",
       "    }\n",
       "\n",
       "    .dataframe tbody tr th {\n",
       "        vertical-align: top;\n",
       "    }\n",
       "\n",
       "    .dataframe thead th {\n",
       "        text-align: right;\n",
       "    }\n",
       "</style>\n",
       "<table border=\"1\" class=\"dataframe\">\n",
       "  <thead>\n",
       "    <tr style=\"text-align: right;\">\n",
       "      <th></th>\n",
       "      <th>High</th>\n",
       "      <th>Low</th>\n",
       "      <th>Open</th>\n",
       "      <th>Close</th>\n",
       "      <th>Volume</th>\n",
       "    </tr>\n",
       "  </thead>\n",
       "  <tbody>\n",
       "    <tr>\n",
       "      <th>0</th>\n",
       "      <td>0.369420</td>\n",
       "      <td>0.352679</td>\n",
       "      <td>0.361607</td>\n",
       "      <td>0.365513</td>\n",
       "      <td>2.716896e+08</td>\n",
       "    </tr>\n",
       "    <tr>\n",
       "      <th>1</th>\n",
       "      <td>0.377232</td>\n",
       "      <td>0.357143</td>\n",
       "      <td>0.376116</td>\n",
       "      <td>0.368304</td>\n",
       "      <td>9.528848e+08</td>\n",
       "    </tr>\n",
       "    <tr>\n",
       "      <th>2</th>\n",
       "      <td>0.392299</td>\n",
       "      <td>0.370536</td>\n",
       "      <td>0.374442</td>\n",
       "      <td>0.386719</td>\n",
       "      <td>1.410114e+09</td>\n",
       "    </tr>\n",
       "    <tr>\n",
       "      <th>3</th>\n",
       "      <td>0.393973</td>\n",
       "      <td>0.366071</td>\n",
       "      <td>0.393973</td>\n",
       "      <td>0.372768</td>\n",
       "      <td>1.348570e+09</td>\n",
       "    </tr>\n",
       "    <tr>\n",
       "      <th>4</th>\n",
       "      <td>0.402344</td>\n",
       "      <td>0.376116</td>\n",
       "      <td>0.377232</td>\n",
       "      <td>0.401786</td>\n",
       "      <td>1.429019e+09</td>\n",
       "    </tr>\n",
       "  </tbody>\n",
       "</table>\n",
       "</div>"
      ],
      "text/plain": [
       "       High       Low      Open     Close        Volume\n",
       "0  0.369420  0.352679  0.361607  0.365513  2.716896e+08\n",
       "1  0.377232  0.357143  0.376116  0.368304  9.528848e+08\n",
       "2  0.392299  0.370536  0.374442  0.386719  1.410114e+09\n",
       "3  0.393973  0.366071  0.393973  0.372768  1.348570e+09\n",
       "4  0.402344  0.376116  0.377232  0.401786  1.429019e+09"
      ]
     },
     "execution_count": 80,
     "metadata": {},
     "output_type": "execute_result"
    }
   ],
   "source": [
    "df = df.drop(['Date','Adj Close'],axis=1)\n",
    "df.head()"
   ]
  },
  {
   "cell_type": "code",
   "execution_count": 81,
   "id": "3a11fcb8",
   "metadata": {},
   "outputs": [
    {
     "data": {
      "text/plain": [
       "[<matplotlib.lines.Line2D at 0x2ac76a556d0>]"
      ]
     },
     "execution_count": 81,
     "metadata": {},
     "output_type": "execute_result"
    },
    {
     "data": {
      "image/png": "[encoded data removed]",
      "text/plain": [
       "<Figure size 432x288 with 1 Axes>"
      ]
     },
     "metadata": {
      "needs_background": "light"
     },
     "output_type": "display_data"
    }
   ],
   "source": [
    "plt.plot(df.Close)"
   ]
  },
  {
   "cell_type": "code",
   "execution_count": 82,
   "id": "bc715aba",
   "metadata": {},
   "outputs": [
    {
     "data": {
      "text/plain": [
       "[<matplotlib.lines.Line2D at 0x2ac75112280>]"
      ]
     },
     "execution_count": 82,
     "metadata": {},
     "output_type": "execute_result"
    },
    {
     "data": {
      "image/png": "[encoded data removed]",
      "text/plain": [
       "<Figure size 432x288 with 1 Axes>"
      ]
     },
     "metadata": {
      "needs_background": "light"
     },
     "output_type": "display_data"
    }
   ],
   "source": [
    "plt.plot(df.Open)"
   ]
  },
  {
   "cell_type": "code",
   "execution_count": 83,
   "id": "62013fea",
   "metadata": {},
   "outputs": [
    {
     "data": {
      "text/plain": [
       "0            NaN\n",
       "1            NaN\n",
       "2            NaN\n",
       "3            NaN\n",
       "4            NaN\n",
       "          ...   \n",
       "5794    156.2546\n",
       "5795    156.5384\n",
       "5796    156.8118\n",
       "5797    157.0366\n",
       "5798    157.2711\n",
       "Name: Close, Length: 5799, dtype: float64"
      ]
     },
     "execution_count": 83,
     "metadata": {},
     "output_type": "execute_result"
    }
   ],
   "source": [
    "ma100 = df.Close.rolling(100).mean()\n",
    "ma100"
   ]
  },
  {
   "cell_type": "code",
   "execution_count": 84,
   "id": "598c4d83",
   "metadata": {},
   "outputs": [
    {
     "data": {
      "text/plain": [
       "[<matplotlib.lines.Line2D at 0x2ac76caa850>]"
      ]
     },
     "execution_count": 84,
     "metadata": {},
     "output_type": "execute_result"
    },
    {
     "data": {
      "image/png": "[encoded data removed]",
      "text/plain": [
       "<Figure size 720x576 with 1 Axes>"
      ]
     },
     "metadata": {
      "needs_background": "light"
     },
     "output_type": "display_data"
    }
   ],
   "source": [
    "plt.figure(figsize =(10,8))\n",
    "plt.plot(df.Close)\n",
    "plt.plot(ma100,'y')"
   ]
  },
  {
   "cell_type": "code",
   "execution_count": 85,
   "id": "80557383",
   "metadata": {},
   "outputs": [
    {
     "data": {
      "text/plain": [
       "0             NaN\n",
       "1             NaN\n",
       "2             NaN\n",
       "3             NaN\n",
       "4             NaN\n",
       "          ...    \n",
       "5794    145.57955\n",
       "5795    145.84800\n",
       "5796    146.12615\n",
       "5797    146.37635\n",
       "5798    146.62670\n",
       "Name: Close, Length: 5799, dtype: float64"
      ]
     },
     "execution_count": 85,
     "metadata": {},
     "output_type": "execute_result"
    }
   ],
   "source": [
    "ma200 = df.Close.rolling(200).mean()\n",
    "ma200"
   ]
  },
  {
   "cell_type": "code",
   "execution_count": 86,
   "id": "d980a604",
   "metadata": {},
   "outputs": [
    {
     "data": {
      "text/plain": [
       "[<matplotlib.lines.Line2D at 0x2ac76bebbe0>]"
      ]
     },
     "execution_count": 86,
     "metadata": {},
     "output_type": "execute_result"
    },
    {
     "data": {
      "image/png": "[encoded data removed]",
      "text/plain": [
       "<Figure size 720x576 with 1 Axes>"
      ]
     },
     "metadata": {
      "needs_background": "light"
     },
     "output_type": "display_data"
    }
   ],
   "source": [
    "plt.figure(figsize =(10,8))\n",
    "plt.plot(df.Close)\n",
    "plt.plot(ma100,'r')\n",
    "plt.plot(ma200,'g')"
   ]
  },
  {
   "cell_type": "code",
   "execution_count": 87,
   "id": "db717216",
   "metadata": {},
   "outputs": [
    {
     "data": {
      "text/plain": [
       "(5799, 5)"
      ]
     },
     "execution_count": 87,
     "metadata": {},
     "output_type": "execute_result"
    }
   ],
   "source": [
    "df.shape"
   ]
  },
  {
   "cell_type": "code",
   "execution_count": 88,
   "id": "9b9166d8",
   "metadata": {},
   "outputs": [
    {
     "name": "stdout",
     "output_type": "stream",
     "text": [
      "(4639, 1)\n",
      "(4640, 1)\n"
     ]
    }
   ],
   "source": [
    "data_training = pd.DataFrame(df['Close'][0:int(len(df)*0.80)])\n",
    "data_testing = pd.DataFrame(df['Close'][int(len(df)*0.20):int(len(df))])\n",
    "\n",
    "print(data_training.shape)\n",
    "print(data_testing.shape)"
   ]
  },
  {
   "cell_type": "code",
   "execution_count": 89,
   "id": "14e3c392",
   "metadata": {},
   "outputs": [
    {
     "data": {
      "text/html": [
       "<div>\n",
       "<style scoped>\n",
       "    .dataframe tbody tr th:only-of-type {\n",
       "        vertical-align: middle;\n",
       "    }\n",
       "\n",
       "    .dataframe tbody tr th {\n",
       "        vertical-align: top;\n",
       "    }\n",
       "\n",
       "    .dataframe thead th {\n",
       "        text-align: right;\n",
       "    }\n",
       "</style>\n",
       "<table border=\"1\" class=\"dataframe\">\n",
       "  <thead>\n",
       "    <tr style=\"text-align: right;\">\n",
       "      <th></th>\n",
       "      <th>Close</th>\n",
       "    </tr>\n",
       "  </thead>\n",
       "  <tbody>\n",
       "    <tr>\n",
       "      <th>0</th>\n",
       "      <td>0.365513</td>\n",
       "    </tr>\n",
       "    <tr>\n",
       "      <th>1</th>\n",
       "      <td>0.368304</td>\n",
       "    </tr>\n",
       "    <tr>\n",
       "      <th>2</th>\n",
       "      <td>0.386719</td>\n",
       "    </tr>\n",
       "    <tr>\n",
       "      <th>3</th>\n",
       "      <td>0.372768</td>\n",
       "    </tr>\n",
       "    <tr>\n",
       "      <th>4</th>\n",
       "      <td>0.401786</td>\n",
       "    </tr>\n",
       "  </tbody>\n",
       "</table>\n",
       "</div>"
      ],
      "text/plain": [
       "      Close\n",
       "0  0.365513\n",
       "1  0.368304\n",
       "2  0.386719\n",
       "3  0.372768\n",
       "4  0.401786"
      ]
     },
     "execution_count": 89,
     "metadata": {},
     "output_type": "execute_result"
    }
   ],
   "source": [
    "data_training.head()"
   ]
  },
  {
   "cell_type": "code",
   "execution_count": 90,
   "id": "13a8ff69",
   "metadata": {},
   "outputs": [
    {
     "data": {
      "text/html": [
       "<div>\n",
       "<style scoped>\n",
       "    .dataframe tbody tr th:only-of-type {\n",
       "        vertical-align: middle;\n",
       "    }\n",
       "\n",
       "    .dataframe tbody tr th {\n",
       "        vertical-align: top;\n",
       "    }\n",
       "\n",
       "    .dataframe thead th {\n",
       "        text-align: right;\n",
       "    }\n",
       "</style>\n",
       "<table border=\"1\" class=\"dataframe\">\n",
       "  <thead>\n",
       "    <tr style=\"text-align: right;\">\n",
       "      <th></th>\n",
       "      <th>Close</th>\n",
       "    </tr>\n",
       "  </thead>\n",
       "  <tbody>\n",
       "    <tr>\n",
       "      <th>1159</th>\n",
       "      <td>0.360357</td>\n",
       "    </tr>\n",
       "    <tr>\n",
       "      <th>1160</th>\n",
       "      <td>0.356607</td>\n",
       "    </tr>\n",
       "    <tr>\n",
       "      <th>1161</th>\n",
       "      <td>0.351964</td>\n",
       "    </tr>\n",
       "    <tr>\n",
       "      <th>1162</th>\n",
       "      <td>0.363214</td>\n",
       "    </tr>\n",
       "    <tr>\n",
       "      <th>1163</th>\n",
       "      <td>0.362857</td>\n",
       "    </tr>\n",
       "  </tbody>\n",
       "</table>\n",
       "</div>"
      ],
      "text/plain": [
       "         Close\n",
       "1159  0.360357\n",
       "1160  0.356607\n",
       "1161  0.351964\n",
       "1162  0.363214\n",
       "1163  0.362857"
      ]
     },
     "execution_count": 90,
     "metadata": {},
     "output_type": "execute_result"
    }
   ],
   "source": [
    "data_testing.head()"
   ]
  },
  {
   "cell_type": "code",
   "execution_count": 91,
   "id": "e2c34345",
   "metadata": {},
   "outputs": [],
   "source": [
    "from sklearn.preprocessing import MinMaxScaler\n",
    "scaler = MinMaxScaler(feature_range=(0,1))"
   ]
  },
  {
   "cell_type": "code",
   "execution_count": 92,
   "id": "9ef9d40b",
   "metadata": {},
   "outputs": [
    {
     "data": {
      "text/plain": [
       "array([[0.00338295],\n",
       "       [0.0034549 ],\n",
       "       [0.00392963],\n",
       "       ...,\n",
       "       [0.98936595],\n",
       "       [0.9952952 ],\n",
       "       [0.99284622]])"
      ]
     },
     "execution_count": 92,
     "metadata": {},
     "output_type": "execute_result"
    }
   ],
   "source": [
    "data_training_array=scaler.fit_transform(data_training)\n",
    "data_training_array"
   ]
  },
  {
   "cell_type": "code",
   "execution_count": 93,
   "id": "7750eafe",
   "metadata": {},
   "outputs": [
    {
     "data": {
      "text/plain": [
       "(4639, 1)"
      ]
     },
     "execution_count": 93,
     "metadata": {},
     "output_type": "execute_result"
    }
   ],
   "source": [
    "data_training_array.shape"
   ]
  },
  {
   "cell_type": "code",
   "execution_count": 94,
   "id": "cf023169",
   "metadata": {},
   "outputs": [],
   "source": [
    "x_train =[]\n",
    "y_train=[]\n",
    "\n",
    "for i in range(100,data_training_array.shape[0] ):\n",
    "    x_train.append(data_training_array[i-100: i])\n",
    "    y_train.append(data_training_array[i,0])\n",
    "    \n",
    "x_train,y_train =np.array(x_train),np.array(y_train)\n",
    "    \n"
   ]
  },
  {
   "cell_type": "code",
   "execution_count": 95,
   "id": "1f34ec4f",
   "metadata": {},
   "outputs": [
    {
     "data": {
      "text/plain": [
       "(4539, 100, 1)"
      ]
     },
     "execution_count": 95,
     "metadata": {},
     "output_type": "execute_result"
    }
   ],
   "source": [
    "x_train.shape"
   ]
  },
  {
   "cell_type": "code",
   "execution_count": 96,
   "id": "92f9d05c",
   "metadata": {},
   "outputs": [],
   "source": [
    "import keras\n",
    "from keras.layers import Dense, Dropout, LSTM\n",
    "from keras.models import Sequential  "
   ]
  },
  {
   "cell_type": "code",
   "execution_count": 97,
   "id": "7a841f9f",
   "metadata": {},
   "outputs": [],
   "source": [
    "model = Sequential()\n",
    "model.add(LSTM(units = 50, activation ='relu',return_sequences= True,\n",
    "              input_shape =(x_train.shape[1],1)))\n",
    "model.add(Dropout(0.2))\n",
    "\n",
    "\n",
    "model.add(LSTM(units = 60, activation ='relu',return_sequences= True))\n",
    "model.add(Dropout (0.3))\n",
    "\n",
    "\n",
    "model.add(LSTM(units = 80, activation ='relu',return_sequences= True))\n",
    "model.add(Dropout (0.4))\n",
    "\n",
    "model.add(LSTM(units = 120, activation ='relu'))\n",
    "model.add(Dropout (0.5))\n",
    "\n",
    "model.add(Dense(units = 1))\n"
   ]
  },
  {
   "cell_type": "code",
   "execution_count": 98,
   "id": "e4e6bf0f",
   "metadata": {},
   "outputs": [
    {
     "name": "stdout",
     "output_type": "stream",
     "text": [
      "Model: \"sequential_3\"\n",
      "_________________________________________________________________\n",
      " Layer (type)                Output Shape              Param #   \n",
      "=================================================================\n",
      " lstm_4 (LSTM)               (None, 100, 50)           10400     \n",
      "                                                                 \n",
      " dropout_4 (Dropout)         (None, 100, 50)           0         \n",
      "                                                                 \n",
      " lstm_5 (LSTM)               (None, 100, 60)           26640     \n",
      "                                                                 \n",
      " dropout_5 (Dropout)         (None, 100, 60)           0         \n",
      "                                                                 \n",
      " lstm_6 (LSTM)               (None, 100, 80)           45120     \n",
      "                                                                 \n",
      " dropout_6 (Dropout)         (None, 100, 80)           0         \n",
      "                                                                 \n",
      " lstm_7 (LSTM)               (None, 120)               96480     \n",
      "                                                                 \n",
      " dropout_7 (Dropout)         (None, 120)               0         \n",
      "                                                                 \n",
      " dense_1 (Dense)             (None, 1)                 121       \n",
      "                                                                 \n",
      "=================================================================\n",
      "Total params: 178,761\n",
      "Trainable params: 178,761\n",
      "Non-trainable params: 0\n",
      "_________________________________________________________________\n"
     ]
    }
   ],
   "source": [
    "model.summary()"
   ]
  },
  {
   "cell_type": "code",
   "execution_count": 99,
   "id": "18ff3100",
   "metadata": {},
   "outputs": [
    {
     "name": "stdout",
     "output_type": "stream",
     "text": [
      "Epoch 1/50\n",
      "142/142 [==============================] - 19s 116ms/step - loss: 0.0165\n",
      "Epoch 2/50\n",
      "142/142 [==============================] - 17s 120ms/step - loss: 0.0040\n",
      "Epoch 3/50\n",
      "142/142 [==============================] - 18s 129ms/step - loss: 0.0036\n",
      "Epoch 4/50\n",
      "142/142 [==============================] - 18s 126ms/step - loss: 0.0034\n",
      "Epoch 5/50\n",
      "142/142 [==============================] - 18s 127ms/step - loss: 0.0032\n",
      "Epoch 6/50\n",
      "142/142 [==============================] - 18s 124ms/step - loss: 0.0033\n",
      "Epoch 7/50\n",
      "142/142 [==============================] - 18s 126ms/step - loss: 0.0025\n",
      "Epoch 8/50\n",
      "142/142 [==============================] - 18s 127ms/step - loss: 0.0026\n",
      "Epoch 9/50\n",
      "142/142 [==============================] - 20s 143ms/step - loss: 0.0024\n",
      "Epoch 10/50\n",
      "142/142 [==============================] - 19s 133ms/step - loss: 0.0022\n",
      "Epoch 11/50\n",
      "142/142 [==============================] - 19s 132ms/step - loss: 0.0025\n",
      "Epoch 12/50\n",
      "142/142 [==============================] - 19s 135ms/step - loss: 0.0023\n",
      "Epoch 13/50\n",
      "142/142 [==============================] - 18s 129ms/step - loss: 0.0022\n",
      "Epoch 14/50\n",
      "142/142 [==============================] - 19s 137ms/step - loss: 0.0021\n",
      "Epoch 15/50\n",
      "142/142 [==============================] - 29s 206ms/step - loss: 0.0021\n",
      "Epoch 16/50\n",
      "142/142 [==============================] - 50s 350ms/step - loss: 0.0022\n",
      "Epoch 17/50\n",
      "142/142 [==============================] - 48s 340ms/step - loss: 0.0020\n",
      "Epoch 18/50\n",
      "142/142 [==============================] - 48s 338ms/step - loss: 0.0020\n",
      "Epoch 19/50\n",
      "142/142 [==============================] - 48s 337ms/step - loss: 0.0020\n",
      "Epoch 20/50\n",
      "142/142 [==============================] - 49s 341ms/step - loss: 0.0020\n",
      "Epoch 21/50\n",
      "142/142 [==============================] - 48s 339ms/step - loss: 0.0020\n",
      "Epoch 22/50\n",
      "142/142 [==============================] - 50s 354ms/step - loss: 0.0019\n",
      "Epoch 23/50\n",
      "142/142 [==============================] - 50s 350ms/step - loss: 0.0020\n",
      "Epoch 24/50\n",
      "142/142 [==============================] - 49s 347ms/step - loss: 0.0019\n",
      "Epoch 25/50\n",
      "142/142 [==============================] - 49s 347ms/step - loss: 0.0019\n",
      "Epoch 26/50\n",
      "142/142 [==============================] - 50s 350ms/step - loss: 0.0020\n",
      "Epoch 27/50\n",
      "142/142 [==============================] - 49s 343ms/step - loss: 0.0019\n",
      "Epoch 28/50\n",
      "142/142 [==============================] - 45s 320ms/step - loss: 0.0019\n",
      "Epoch 29/50\n",
      "142/142 [==============================] - 40s 278ms/step - loss: 0.0019\n",
      "Epoch 30/50\n",
      "142/142 [==============================] - 44s 309ms/step - loss: 0.0019\n",
      "Epoch 31/50\n",
      "142/142 [==============================] - 44s 312ms/step - loss: 0.0019\n",
      "Epoch 32/50\n",
      "142/142 [==============================] - 36s 251ms/step - loss: 0.0020\n",
      "Epoch 33/50\n",
      "142/142 [==============================] - 34s 239ms/step - loss: 0.0019\n",
      "Epoch 34/50\n",
      "142/142 [==============================] - 40s 282ms/step - loss: 0.0017\n",
      "Epoch 35/50\n",
      "142/142 [==============================] - 41s 290ms/step - loss: 0.0019\n",
      "Epoch 36/50\n",
      "142/142 [==============================] - 44s 312ms/step - loss: 0.0019\n",
      "Epoch 37/50\n",
      "142/142 [==============================] - 44s 311ms/step - loss: 0.0021\n",
      "Epoch 38/50\n",
      "142/142 [==============================] - 45s 319ms/step - loss: 0.0018\n",
      "Epoch 39/50\n",
      "142/142 [==============================] - 36s 252ms/step - loss: 0.0019\n",
      "Epoch 40/50\n",
      "142/142 [==============================] - 33s 233ms/step - loss: 0.0018\n",
      "Epoch 41/50\n",
      "142/142 [==============================] - 42s 297ms/step - loss: 0.0018\n",
      "Epoch 42/50\n",
      "142/142 [==============================] - 46s 323ms/step - loss: 0.0021\n",
      "Epoch 43/50\n",
      "142/142 [==============================] - 34s 240ms/step - loss: 0.0018\n",
      "Epoch 44/50\n",
      "142/142 [==============================] - 35s 243ms/step - loss: 0.0019\n",
      "Epoch 45/50\n",
      "142/142 [==============================] - 37s 258ms/step - loss: 0.0019\n",
      "Epoch 46/50\n",
      "142/142 [==============================] - 41s 289ms/step - loss: 0.0018\n",
      "Epoch 47/50\n",
      "142/142 [==============================] - 40s 279ms/step - loss: 0.0017\n",
      "Epoch 48/50\n",
      "142/142 [==============================] - 34s 239ms/step - loss: 0.0018\n",
      "Epoch 49/50\n",
      "142/142 [==============================] - 31s 220ms/step - loss: 0.0018\n",
      "Epoch 50/50\n",
      "142/142 [==============================] - 45s 317ms/step - loss: 0.0018\n"
     ]
    },
    {
     "data": {
      "text/plain": [
       "<keras.callbacks.History at 0x2ac5b55aa60>"
      ]
     },
     "execution_count": 99,
     "metadata": {},
     "output_type": "execute_result"
    }
   ],
   "source": [
    "model.compile(optimizer='adam',loss ='mean_squared_error')\n",
    "model.fit(x_train, y_train, epochs =50)"
   ]
  },
  {
   "cell_type": "code",
   "execution_count": 100,
   "id": "3bed7cb0",
   "metadata": {},
   "outputs": [],
   "source": [
    "model.save('keras_model.h5')"
   ]
  },
  {
   "cell_type": "code",
   "execution_count": 101,
   "id": "1b3933d8",
   "metadata": {},
   "outputs": [
    {
     "data": {
      "text/html": [
       "<div>\n",
       "<style scoped>\n",
       "    .dataframe tbody tr th:only-of-type {\n",
       "        vertical-align: middle;\n",
       "    }\n",
       "\n",
       "    .dataframe tbody tr th {\n",
       "        vertical-align: top;\n",
       "    }\n",
       "\n",
       "    .dataframe thead th {\n",
       "        text-align: right;\n",
       "    }\n",
       "</style>\n",
       "<table border=\"1\" class=\"dataframe\">\n",
       "  <thead>\n",
       "    <tr style=\"text-align: right;\">\n",
       "      <th></th>\n",
       "      <th>Close</th>\n",
       "    </tr>\n",
       "  </thead>\n",
       "  <tbody>\n",
       "    <tr>\n",
       "      <th>5794</th>\n",
       "      <td>172.190002</td>\n",
       "    </tr>\n",
       "    <tr>\n",
       "      <th>5795</th>\n",
       "      <td>175.080002</td>\n",
       "    </tr>\n",
       "    <tr>\n",
       "      <th>5796</th>\n",
       "      <td>175.529999</td>\n",
       "    </tr>\n",
       "    <tr>\n",
       "      <th>5797</th>\n",
       "      <td>172.190002</td>\n",
       "    </tr>\n",
       "    <tr>\n",
       "      <th>5798</th>\n",
       "      <td>173.070007</td>\n",
       "    </tr>\n",
       "  </tbody>\n",
       "</table>\n",
       "</div>"
      ],
      "text/plain": [
       "           Close\n",
       "5794  172.190002\n",
       "5795  175.080002\n",
       "5796  175.529999\n",
       "5797  172.190002\n",
       "5798  173.070007"
      ]
     },
     "execution_count": 101,
     "metadata": {},
     "output_type": "execute_result"
    }
   ],
   "source": [
    "data_testing.tail()"
   ]
  },
  {
   "cell_type": "code",
   "execution_count": 27,
   "id": "539a5b70",
   "metadata": {},
   "outputs": [],
   "source": [
    "past_100_days =data_training"
   ]
  },
  {
   "cell_type": "code",
   "execution_count": 28,
   "id": "ede19600",
   "metadata": {},
   "outputs": [],
   "source": [
    "final_df = past_100_days.append(data_testing,ignore_index=True)"
   ]
  },
  {
   "cell_type": "code",
   "execution_count": 29,
   "id": "ca9e0406",
   "metadata": {},
   "outputs": [
    {
     "data": {
      "text/html": [
       "<div>\n",
       "<style scoped>\n",
       "    .dataframe tbody tr th:only-of-type {\n",
       "        vertical-align: middle;\n",
       "    }\n",
       "\n",
       "    .dataframe tbody tr th {\n",
       "        vertical-align: top;\n",
       "    }\n",
       "\n",
       "    .dataframe thead th {\n",
       "        text-align: right;\n",
       "    }\n",
       "</style>\n",
       "<table border=\"1\" class=\"dataframe\">\n",
       "  <thead>\n",
       "    <tr style=\"text-align: right;\">\n",
       "      <th></th>\n",
       "      <th>Close</th>\n",
       "    </tr>\n",
       "  </thead>\n",
       "  <tbody>\n",
       "    <tr>\n",
       "      <th>0</th>\n",
       "      <td>0.365513</td>\n",
       "    </tr>\n",
       "    <tr>\n",
       "      <th>1</th>\n",
       "      <td>0.368304</td>\n",
       "    </tr>\n",
       "    <tr>\n",
       "      <th>2</th>\n",
       "      <td>0.386719</td>\n",
       "    </tr>\n",
       "    <tr>\n",
       "      <th>3</th>\n",
       "      <td>0.372768</td>\n",
       "    </tr>\n",
       "    <tr>\n",
       "      <th>4</th>\n",
       "      <td>0.401786</td>\n",
       "    </tr>\n",
       "  </tbody>\n",
       "</table>\n",
       "</div>"
      ],
      "text/plain": [
       "      Close\n",
       "0  0.365513\n",
       "1  0.368304\n",
       "2  0.386719\n",
       "3  0.372768\n",
       "4  0.401786"
      ]
     },
     "execution_count": 29,
     "metadata": {},
     "output_type": "execute_result"
    }
   ],
   "source": [
    "final_df.head()"
   ]
  },
  {
   "cell_type": "code",
   "execution_count": 30,
   "id": "3a725a75",
   "metadata": {},
   "outputs": [],
   "source": [
    "input_data = scaler.fit_transform(final_df)"
   ]
  },
  {
   "cell_type": "code",
   "execution_count": 31,
   "id": "461731f1",
   "metadata": {},
   "outputs": [
    {
     "data": {
      "text/plain": [
       "array([[7.21917151e-04],\n",
       "       [7.37271333e-04],\n",
       "       [8.38577356e-04],\n",
       "       ...,\n",
       "       [9.64351696e-01],\n",
       "       [9.45977424e-01],\n",
       "       [9.50818582e-01]])"
      ]
     },
     "execution_count": 31,
     "metadata": {},
     "output_type": "execute_result"
    }
   ],
   "source": [
    "input_data"
   ]
  },
  {
   "cell_type": "code",
   "execution_count": 32,
   "id": "3ff97355",
   "metadata": {},
   "outputs": [
    {
     "data": {
      "text/plain": [
       "(9279, 1)"
      ]
     },
     "execution_count": 32,
     "metadata": {},
     "output_type": "execute_result"
    }
   ],
   "source": [
    "input_data.shape"
   ]
  },
  {
   "cell_type": "code",
   "execution_count": 33,
   "id": "28f95300",
   "metadata": {},
   "outputs": [],
   "source": [
    "x_test =[]\n",
    "y_test=[]\n",
    "for i in range(100, input_data.shape[0]):\n",
    "    x_test.append(input_data[i-100:i])\n",
    "    y_test.append(input_data[i,0])"
   ]
  },
  {
   "cell_type": "code",
   "execution_count": 34,
   "id": "1f62af6d",
   "metadata": {},
   "outputs": [
    {
     "name": "stdout",
     "output_type": "stream",
     "text": [
      "(9179, 100, 1)\n",
      "(9179,)\n"
     ]
    }
   ],
   "source": [
    "x_test, y_test = np.array(x_test),np.array(y_test)\n",
    "print(x_test.shape)\n",
    "print(y_test.shape)"
   ]
  },
  {
   "cell_type": "code",
   "execution_count": 43,
   "id": "99e2eb17",
   "metadata": {},
   "outputs": [],
   "source": [
    "y_predicted = model.predict(x_test)"
   ]
  },
  {
   "cell_type": "code",
   "execution_count": 44,
   "id": "93430d21",
   "metadata": {},
   "outputs": [
    {
     "data": {
      "text/plain": [
       "(9179, 1)"
      ]
     },
     "execution_count": 44,
     "metadata": {},
     "output_type": "execute_result"
    }
   ],
   "source": [
    "y_predicted.shape"
   ]
  },
  {
   "cell_type": "code",
   "execution_count": 45,
   "id": "ba68b454",
   "metadata": {},
   "outputs": [
    {
     "data": {
      "text/plain": [
       "array([1.57658403e-01, 1.52682825e-01, 1.57658403e-01, ...,\n",
       "       1.73675701e+02, 1.70366571e+02, 1.71238444e+02])"
      ]
     },
     "execution_count": 45,
     "metadata": {},
     "output_type": "execute_result"
    }
   ],
   "source": [
    "y_test"
   ]
  },
  {
   "cell_type": "code",
   "execution_count": 46,
   "id": "625b8fc4",
   "metadata": {},
   "outputs": [
    {
     "data": {
      "text/plain": [
       "array([[0.01627344],\n",
       "       [0.01627794],\n",
       "       [0.01628157],\n",
       "       ...,\n",
       "       [0.9179814 ],\n",
       "       [0.9151362 ],\n",
       "       [0.9131354 ]], dtype=float32)"
      ]
     },
     "execution_count": 46,
     "metadata": {},
     "output_type": "execute_result"
    }
   ],
   "source": [
    "y_predicted"
   ]
  },
  {
   "cell_type": "code",
   "execution_count": 47,
   "id": "8679e5c4",
   "metadata": {},
   "outputs": [
    {
     "data": {
      "text/plain": [
       "array([0.00550129])"
      ]
     },
     "execution_count": 47,
     "metadata": {},
     "output_type": "execute_result"
    }
   ],
   "source": [
    "scaler.scale_"
   ]
  },
  {
   "cell_type": "code",
   "execution_count": 48,
   "id": "c9b0afdd",
   "metadata": {},
   "outputs": [],
   "source": [
    "scale_factor =1/0.0055526\n",
    "y_predicted = y_predicted * scale_factor\n",
    "y_test = y_test * scale_factor"
   ]
  },
  {
   "cell_type": "code",
   "execution_count": 41,
   "id": "68608c08",
   "metadata": {},
   "outputs": [
    {
     "data": {
      "image/png": "[encoded data removed]",
      "text/plain": [
       "<Figure size 864x432 with 1 Axes>"
      ]
     },
     "metadata": {
      "needs_background": "light"
     },
     "output_type": "display_data"
    }
   ],
   "source": [
    "plt.figure(figsize=(12,6))\n",
    "plt.plot(y_test,'b',label='Original Price')\n",
    "plt.plot(y_predicted,'r',label='Predicted Price')\n",
    "plt.xlabel('time')\n",
    "plt.ylabel('Price')\n",
    "plt.legend()\n",
    "plt.show()"
   ]
  },
  {
   "cell_type": "code",
   "execution_count": null,
   "id": "8da5f33f",
   "metadata": {},
   "outputs": [],
   "source": [
    "\n"
   ]
  },
  {
   "cell_type": "code",
   "execution_count": null,
   "id": "b2ca7137",
   "metadata": {},
   "outputs": [],
   "source": []
  },
  {
   "cell_type": "code",
   "execution_count": null,
   "id": "f0b00e64",
   "metadata": {},
   "outputs": [],
   "source": []
  }
 ],
 "metadata": {
  "kernelspec": {
   "display_name": "Python 3 (ipykernel)",
   "language": "python",
   "name": "python3"
  },
  "language_info": {
   "codemirror_mode": {
    "name": "ipython",
    "version": 3
   },
   "file_extension": ".py",
   "mimetype": "text/x-python",
   "name": "python",
   "nbconvert_exporter": "python",
   "pygments_lexer": "ipython3",
   "version": "3.9.7"
  }
 },
 "nbformat": 4,
 "nbformat_minor": 5
}
